{
 "cells": [
  {
   "cell_type": "code",
   "execution_count": 1,
   "id": "0f360ec9",
   "metadata": {},
   "outputs": [],
   "source": [
    "import pandas as pd\n",
    "import numpy as np\n",
    "import matplotlib.pyplot as plt\n",
    "import seaborn as sns"
   ]
  },
  {
   "cell_type": "code",
   "execution_count": 2,
   "id": "2b866fd1",
   "metadata": {},
   "outputs": [],
   "source": [
    "df = pd.read_csv('yellow_tripdata_2016-01.csv.zip')"
   ]
  },
  {
   "cell_type": "code",
   "execution_count": 3,
   "id": "956c169d",
   "metadata": {},
   "outputs": [],
   "source": [
    "original = df.copy()"
   ]
  },
  {
   "cell_type": "code",
   "execution_count": 4,
   "id": "1cd2b252",
   "metadata": {},
   "outputs": [
    {
     "data": {
      "text/plain": [
       "(10906858, 19)"
      ]
     },
     "execution_count": 4,
     "metadata": {},
     "output_type": "execute_result"
    }
   ],
   "source": [
    "df.shape"
   ]
  },
  {
   "cell_type": "markdown",
   "id": "6ef7e37b",
   "metadata": {},
   "source": [
    "**sampling the df since it's too big:**"
   ]
  },
  {
   "cell_type": "code",
   "execution_count": 5,
   "id": "62597d25",
   "metadata": {},
   "outputs": [],
   "source": [
    "df.sort_values(by='tpep_pickup_datetime')\n",
    "df = df.iloc[:100000, :]"
   ]
  },
  {
   "cell_type": "code",
   "execution_count": 6,
   "id": "3c5ab8d8",
   "metadata": {},
   "outputs": [
    {
     "data": {
      "text/plain": [
       "Index(['VendorID', 'tpep_pickup_datetime', 'tpep_dropoff_datetime',\n",
       "       'passenger_count', 'trip_distance', 'pickup_longitude',\n",
       "       'pickup_latitude', 'RatecodeID', 'store_and_fwd_flag',\n",
       "       'dropoff_longitude', 'dropoff_latitude', 'payment_type', 'fare_amount',\n",
       "       'extra', 'mta_tax', 'tip_amount', 'tolls_amount',\n",
       "       'improvement_surcharge', 'total_amount'],\n",
       "      dtype='object')"
      ]
     },
     "execution_count": 6,
     "metadata": {},
     "output_type": "execute_result"
    }
   ],
   "source": [
    "df.columns"
   ]
  },
  {
   "cell_type": "code",
   "execution_count": 7,
   "id": "aeb9d9e8",
   "metadata": {},
   "outputs": [],
   "source": [
    "relevant_feats = ['tpep_pickup_datetime', 'tpep_dropoff_datetime', 'passenger_count', 'trip_distance', 'pickup_longitude',\n",
    "                  'pickup_latitude', 'dropoff_longitude', 'dropoff_latitude', 'fare_amount']\n",
    "\n",
    "coordinates_feats = ['pickup_longitude', 'pickup_latitude', 'dropoff_longitude', 'dropoff_latitude']"
   ]
  },
  {
   "cell_type": "code",
   "execution_count": 8,
   "id": "10e85ee5",
   "metadata": {
    "scrolled": false
   },
   "outputs": [
    {
     "data": {
      "text/html": [
       "<div>\n",
       "<style scoped>\n",
       "    .dataframe tbody tr th:only-of-type {\n",
       "        vertical-align: middle;\n",
       "    }\n",
       "\n",
       "    .dataframe tbody tr th {\n",
       "        vertical-align: top;\n",
       "    }\n",
       "\n",
       "    .dataframe thead th {\n",
       "        text-align: right;\n",
       "    }\n",
       "</style>\n",
       "<table border=\"1\" class=\"dataframe\">\n",
       "  <thead>\n",
       "    <tr style=\"text-align: right;\">\n",
       "      <th></th>\n",
       "      <th>25926</th>\n",
       "      <th>58191</th>\n",
       "      <th>81196</th>\n",
       "      <th>97739</th>\n",
       "      <th>87007</th>\n",
       "    </tr>\n",
       "  </thead>\n",
       "  <tbody>\n",
       "    <tr>\n",
       "      <th>tpep_pickup_datetime</th>\n",
       "      <td>2016-01-02 04:20:55</td>\n",
       "      <td>2016-01-29 12:04:00</td>\n",
       "      <td>2016-01-01 01:28:35</td>\n",
       "      <td>2016-01-01 02:03:54</td>\n",
       "      <td>2016-01-01 01:40:48</td>\n",
       "    </tr>\n",
       "    <tr>\n",
       "      <th>tpep_dropoff_datetime</th>\n",
       "      <td>2016-01-02 04:35:53</td>\n",
       "      <td>2016-01-29 12:12:25</td>\n",
       "      <td>2016-01-01 01:46:03</td>\n",
       "      <td>2016-01-01 02:07:39</td>\n",
       "      <td>2016-01-01 01:56:19</td>\n",
       "    </tr>\n",
       "    <tr>\n",
       "      <th>passenger_count</th>\n",
       "      <td>1</td>\n",
       "      <td>2</td>\n",
       "      <td>2</td>\n",
       "      <td>1</td>\n",
       "      <td>3</td>\n",
       "    </tr>\n",
       "    <tr>\n",
       "      <th>trip_distance</th>\n",
       "      <td>4.19</td>\n",
       "      <td>0.53</td>\n",
       "      <td>4.23</td>\n",
       "      <td>1.41</td>\n",
       "      <td>2.96</td>\n",
       "    </tr>\n",
       "    <tr>\n",
       "      <th>pickup_longitude</th>\n",
       "      <td>-73.981598</td>\n",
       "      <td>-73.958992</td>\n",
       "      <td>-73.973228</td>\n",
       "      <td>-73.969261</td>\n",
       "      <td>-74.014771</td>\n",
       "    </tr>\n",
       "    <tr>\n",
       "      <th>pickup_latitude</th>\n",
       "      <td>40.738239</td>\n",
       "      <td>40.771809</td>\n",
       "      <td>40.755219</td>\n",
       "      <td>40.749626</td>\n",
       "      <td>40.70974</td>\n",
       "    </tr>\n",
       "    <tr>\n",
       "      <th>dropoff_longitude</th>\n",
       "      <td>-73.984062</td>\n",
       "      <td>-73.963959</td>\n",
       "      <td>-74.010246</td>\n",
       "      <td>-73.956993</td>\n",
       "      <td>-74.00177</td>\n",
       "    </tr>\n",
       "    <tr>\n",
       "      <th>dropoff_latitude</th>\n",
       "      <td>40.782249</td>\n",
       "      <td>40.771156</td>\n",
       "      <td>40.714184</td>\n",
       "      <td>40.767227</td>\n",
       "      <td>40.74353</td>\n",
       "    </tr>\n",
       "    <tr>\n",
       "      <th>fare_amount</th>\n",
       "      <td>15.0</td>\n",
       "      <td>6.5</td>\n",
       "      <td>15.0</td>\n",
       "      <td>6.0</td>\n",
       "      <td>13.0</td>\n",
       "    </tr>\n",
       "  </tbody>\n",
       "</table>\n",
       "</div>"
      ],
      "text/plain": [
       "                                     25926                58191  \\\n",
       "tpep_pickup_datetime   2016-01-02 04:20:55  2016-01-29 12:04:00   \n",
       "tpep_dropoff_datetime  2016-01-02 04:35:53  2016-01-29 12:12:25   \n",
       "passenger_count                          1                    2   \n",
       "trip_distance                         4.19                 0.53   \n",
       "pickup_longitude                -73.981598           -73.958992   \n",
       "pickup_latitude                  40.738239            40.771809   \n",
       "dropoff_longitude               -73.984062           -73.963959   \n",
       "dropoff_latitude                 40.782249            40.771156   \n",
       "fare_amount                           15.0                  6.5   \n",
       "\n",
       "                                     81196                97739  \\\n",
       "tpep_pickup_datetime   2016-01-01 01:28:35  2016-01-01 02:03:54   \n",
       "tpep_dropoff_datetime  2016-01-01 01:46:03  2016-01-01 02:07:39   \n",
       "passenger_count                          2                    1   \n",
       "trip_distance                         4.23                 1.41   \n",
       "pickup_longitude                -73.973228           -73.969261   \n",
       "pickup_latitude                  40.755219            40.749626   \n",
       "dropoff_longitude               -74.010246           -73.956993   \n",
       "dropoff_latitude                 40.714184            40.767227   \n",
       "fare_amount                           15.0                  6.0   \n",
       "\n",
       "                                     87007  \n",
       "tpep_pickup_datetime   2016-01-01 01:40:48  \n",
       "tpep_dropoff_datetime  2016-01-01 01:56:19  \n",
       "passenger_count                          3  \n",
       "trip_distance                         2.96  \n",
       "pickup_longitude                -74.014771  \n",
       "pickup_latitude                   40.70974  \n",
       "dropoff_longitude                -74.00177  \n",
       "dropoff_latitude                  40.74353  \n",
       "fare_amount                           13.0  "
      ]
     },
     "execution_count": 8,
     "metadata": {},
     "output_type": "execute_result"
    }
   ],
   "source": [
    "df.sample(5)[relevant_feats].T"
   ]
  },
  {
   "cell_type": "markdown",
   "id": "1a7f9128",
   "metadata": {},
   "source": [
    "leakage - 'tpep_dropoff_datetime',\n",
    "enrich - 'trip_distance' (external API, euclidean / manhattan)\n",
    "valid - 'tpep_pickup_datetime', 'pickup_longitude', 'pickup_latitude', 'dropoff_longitude', 'dropoff_latitude']"
   ]
  },
  {
   "cell_type": "markdown",
   "id": "4e7a62d5",
   "metadata": {},
   "source": [
    "**converting datetime features to be of type datetime and creating the target for the duration predictions model:**"
   ]
  },
  {
   "cell_type": "code",
   "execution_count": 9,
   "id": "cfe53770",
   "metadata": {},
   "outputs": [],
   "source": [
    "df['pickup_datetime'] = df['tpep_pickup_datetime'].astype('datetime64')\n",
    "df['dropoff_datetime'] = df['tpep_dropoff_datetime'].astype('datetime64')"
   ]
  },
  {
   "cell_type": "code",
   "execution_count": 10,
   "id": "4c12e550",
   "metadata": {},
   "outputs": [],
   "source": [
    "df['pickup_day'] = df['pickup_datetime'].dt.day_of_week\n",
    "df['dropoff_day'] = df['dropoff_datetime'].dt.day_of_week"
   ]
  },
  {
   "cell_type": "code",
   "execution_count": 11,
   "id": "5352d242",
   "metadata": {},
   "outputs": [],
   "source": [
    "df['pickup_hour'] = df['pickup_datetime'].dt.hour\n",
    "df['dropoff_hour'] = df['dropoff_datetime'].dt.hour"
   ]
  },
  {
   "cell_type": "code",
   "execution_count": 12,
   "id": "f3b93d2f",
   "metadata": {},
   "outputs": [],
   "source": [
    "df['pickup_minute'] = df['pickup_datetime'].dt.minute\n",
    "df['dropoff_minute'] = df['dropoff_datetime'].dt.minute"
   ]
  },
  {
   "cell_type": "code",
   "execution_count": 13,
   "id": "9a7501f3",
   "metadata": {},
   "outputs": [
    {
     "data": {
      "text/plain": [
       "2507     29.316667\n",
       "19743     3.816667\n",
       "40116    13.600000\n",
       "3413     11.116667\n",
       "32254    18.733333\n",
       "Name: duration, dtype: float64"
      ]
     },
     "execution_count": 13,
     "metadata": {},
     "output_type": "execute_result"
    }
   ],
   "source": [
    "df['duration'] = (df['dropoff_datetime'] - df['pickup_datetime']).apply(lambda td: td.seconds/60)\n",
    "df['duration'].sample(5)"
   ]
  },
  {
   "cell_type": "code",
   "execution_count": 14,
   "id": "3dc3b046",
   "metadata": {},
   "outputs": [],
   "source": [
    "duration_target = 'duration'"
   ]
  },
  {
   "cell_type": "code",
   "execution_count": 15,
   "id": "140f13cd",
   "metadata": {},
   "outputs": [
    {
     "data": {
      "text/plain": [
       "['passenger_count',\n",
       " 'trip_distance',\n",
       " 'pickup_longitude',\n",
       " 'pickup_latitude',\n",
       " 'dropoff_longitude',\n",
       " 'dropoff_latitude',\n",
       " 'fare_amount',\n",
       " 'dropoff_datetime',\n",
       " 'pickup_datetime',\n",
       " 'pickup_day',\n",
       " 'dropoff_day',\n",
       " 'pickup_hour',\n",
       " 'dropoff_hour',\n",
       " 'pickup_minute',\n",
       " 'dropoff_minute',\n",
       " 'duration']"
      ]
     },
     "execution_count": 15,
     "metadata": {},
     "output_type": "execute_result"
    }
   ],
   "source": [
    "engineered_feats = ['dropoff_datetime', 'pickup_datetime', 'pickup_day', 'dropoff_day', \n",
    "                    'pickup_hour', 'dropoff_hour', 'pickup_minute', 'dropoff_minute', 'duration']\n",
    "relevant_feats.extend(engineered_feats)\n",
    "\n",
    "relevant_feats.remove('tpep_dropoff_datetime')\n",
    "relevant_feats.remove('tpep_pickup_datetime')\n",
    "relevant_feats"
   ]
  },
  {
   "cell_type": "markdown",
   "id": "e0bd9858",
   "metadata": {},
   "source": [
    "**integrity checks:**"
   ]
  },
  {
   "cell_type": "code",
   "execution_count": 50,
   "id": "f6b9041f",
   "metadata": {},
   "outputs": [
    {
     "data": {
      "text/plain": [
       "True    66852\n",
       "dtype: int64"
      ]
     },
     "execution_count": 50,
     "metadata": {},
     "output_type": "execute_result"
    }
   ],
   "source": [
    "(df['pickup_datetime'] < df['dropoff_datetime']).value_counts()"
   ]
  },
  {
   "cell_type": "code",
   "execution_count": 51,
   "id": "30972631",
   "metadata": {},
   "outputs": [
    {
     "data": {
      "text/plain": [
       "True    66852\n",
       "Name: fare_amount, dtype: int64"
      ]
     },
     "execution_count": 51,
     "metadata": {},
     "output_type": "execute_result"
    }
   ],
   "source": [
    "(df['fare_amount'] > 0).value_counts()"
   ]
  },
  {
   "cell_type": "code",
   "execution_count": 52,
   "id": "014fadde",
   "metadata": {},
   "outputs": [
    {
     "data": {
      "text/plain": [
       "True    66852\n",
       "Name: trip_distance, dtype: int64"
      ]
     },
     "execution_count": 52,
     "metadata": {},
     "output_type": "execute_result"
    }
   ],
   "source": [
    "(df['trip_distance'] > 0).value_counts()"
   ]
  },
  {
   "cell_type": "code",
   "execution_count": 21,
   "id": "3ba1c968",
   "metadata": {},
   "outputs": [
    {
     "data": {
      "text/plain": [
       "100000"
      ]
     },
     "execution_count": 21,
     "metadata": {},
     "output_type": "execute_result"
    }
   ],
   "source": [
    "len(df['passenger_count'] > 0)"
   ]
  },
  {
   "cell_type": "code",
   "execution_count": 56,
   "id": "4d73fa6b",
   "metadata": {},
   "outputs": [
    {
     "data": {
      "text/plain": [
       "1    51807\n",
       "2    15045\n",
       "Name: passenger_count, dtype: int64"
      ]
     },
     "execution_count": 56,
     "metadata": {},
     "output_type": "execute_result"
    }
   ],
   "source": [
    "df['passenger_count'].value_counts()"
   ]
  },
  {
   "cell_type": "code",
   "execution_count": 23,
   "id": "fd61bfcb",
   "metadata": {
    "scrolled": true
   },
   "outputs": [
    {
     "name": "stdout",
     "output_type": "stream",
     "text": [
      "pickup_longitude: 1548\n",
      "pickup_latitude: 1548\n",
      "dropoff_longitude: 1484\n",
      "dropoff_latitude: 1484\n"
     ]
    }
   ],
   "source": [
    "for feat in coordinates_feats:\n",
    "    print(f'{feat}: {(df[feat] == 0).sum()}')"
   ]
  },
  {
   "cell_type": "markdown",
   "id": "a8f9b0d1",
   "metadata": {},
   "source": [
    "**dropping off invalid data:**"
   ]
  },
  {
   "cell_type": "code",
   "execution_count": 24,
   "id": "49c8154d",
   "metadata": {},
   "outputs": [
    {
     "data": {
      "text/plain": [
       "(100000, 28)"
      ]
     },
     "execution_count": 24,
     "metadata": {},
     "output_type": "execute_result"
    }
   ],
   "source": [
    "df.shape"
   ]
  },
  {
   "cell_type": "code",
   "execution_count": 25,
   "id": "9234e05f",
   "metadata": {},
   "outputs": [],
   "source": [
    "df = df[df['pickup_datetime'] < df['dropoff_datetime']]"
   ]
  },
  {
   "cell_type": "code",
   "execution_count": 26,
   "id": "e75c1420",
   "metadata": {},
   "outputs": [
    {
     "data": {
      "text/plain": [
       "(99869, 28)"
      ]
     },
     "execution_count": 26,
     "metadata": {},
     "output_type": "execute_result"
    }
   ],
   "source": [
    "df.shape"
   ]
  },
  {
   "cell_type": "code",
   "execution_count": 27,
   "id": "152a70ab",
   "metadata": {},
   "outputs": [],
   "source": [
    "df = df[df['fare_amount'] > 0]"
   ]
  },
  {
   "cell_type": "code",
   "execution_count": 28,
   "id": "e3b53b75",
   "metadata": {},
   "outputs": [
    {
     "data": {
      "text/plain": [
       "(99767, 28)"
      ]
     },
     "execution_count": 28,
     "metadata": {},
     "output_type": "execute_result"
    }
   ],
   "source": [
    "df.shape"
   ]
  },
  {
   "cell_type": "code",
   "execution_count": 29,
   "id": "3f9bcf1a",
   "metadata": {},
   "outputs": [],
   "source": [
    "df = df[df['trip_distance'] > 0]"
   ]
  },
  {
   "cell_type": "code",
   "execution_count": 30,
   "id": "10ad7005",
   "metadata": {},
   "outputs": [
    {
     "data": {
      "text/plain": [
       "(99078, 28)"
      ]
     },
     "execution_count": 30,
     "metadata": {},
     "output_type": "execute_result"
    }
   ],
   "source": [
    "df.shape"
   ]
  },
  {
   "cell_type": "code",
   "execution_count": 31,
   "id": "01bd97fc",
   "metadata": {},
   "outputs": [],
   "source": [
    "df = df[np.logical_or(df['passenger_count'] == 2, df['passenger_count'] == 1)]"
   ]
  },
  {
   "cell_type": "code",
   "execution_count": 32,
   "id": "39e9bfa4",
   "metadata": {},
   "outputs": [
    {
     "data": {
      "text/plain": [
       "1    62742\n",
       "2    18363\n",
       "Name: passenger_count, dtype: int64"
      ]
     },
     "execution_count": 32,
     "metadata": {},
     "output_type": "execute_result"
    }
   ],
   "source": [
    "df['passenger_count'].value_counts()"
   ]
  },
  {
   "cell_type": "code",
   "execution_count": 33,
   "id": "c121c15b",
   "metadata": {
    "scrolled": false
   },
   "outputs": [
    {
     "data": {
      "text/plain": [
       "(81105, 28)"
      ]
     },
     "execution_count": 33,
     "metadata": {},
     "output_type": "execute_result"
    }
   ],
   "source": [
    "df.shape"
   ]
  },
  {
   "cell_type": "code",
   "execution_count": 34,
   "id": "4d7f4114",
   "metadata": {
    "scrolled": true
   },
   "outputs": [],
   "source": [
    "indices0 = df[coordinates_feats].isin([0]).any(axis=1)\n",
    "df = df[~indices0]"
   ]
  },
  {
   "cell_type": "code",
   "execution_count": 35,
   "id": "f97e80f0",
   "metadata": {},
   "outputs": [
    {
     "data": {
      "text/plain": [
       "(79905, 28)"
      ]
     },
     "execution_count": 35,
     "metadata": {},
     "output_type": "execute_result"
    }
   ],
   "source": [
    "df.shape"
   ]
  },
  {
   "cell_type": "markdown",
   "id": "bfaa27ba",
   "metadata": {},
   "source": [
    "**some visualizations:**"
   ]
  },
  {
   "cell_type": "code",
   "execution_count": 36,
   "id": "926205aa",
   "metadata": {
    "scrolled": false
   },
   "outputs": [
    {
     "name": "stderr",
     "output_type": "stream",
     "text": [
      "<ipython-input-36-0973ddab7f8f>:8: UserWarning: Matplotlib is currently using module://ipykernel.pylab.backend_inline, which is a non-GUI backend, so cannot show the figure.\n",
      "  fig.show()\n"
     ]
    },
    {
     "data": {
      "image/png": "[encoded data removed]",
      "text/plain": [
       "<Figure size 1080x576 with 16 Axes>"
      ]
     },
     "metadata": {
      "needs_background": "light"
     },
     "output_type": "display_data"
    }
   ],
   "source": [
    "fig = plt.figure(figsize=(15, 8))\n",
    "\n",
    "for i, feat in enumerate(relevant_feats):        \n",
    "    plt.subplot(4, 4, i + 1)\n",
    "    sns.kdeplot(df[feat])\n",
    "    \n",
    "fig.tight_layout()\n",
    "fig.show()"
   ]
  },
  {
   "cell_type": "markdown",
   "id": "4894949d",
   "metadata": {},
   "source": [
    "**taking care of outliers in these features:**\n",
    "\n",
    "- trip_distance\n",
    "- fare_amount\n",
    "- duration\n",
    "- coordinates features"
   ]
  },
  {
   "cell_type": "code",
   "execution_count": 37,
   "id": "ee460906",
   "metadata": {},
   "outputs": [],
   "source": [
    "copy = df.copy()"
   ]
  },
  {
   "cell_type": "code",
   "execution_count": 38,
   "id": "395a5219",
   "metadata": {
    "scrolled": true
   },
   "outputs": [
    {
     "name": "stdout",
     "output_type": "stream",
     "text": [
      "trip_distance\n",
      "bottom: -3.22\ttop: 8.54\n",
      "IQR: 2.94\n",
      "\n",
      "shape before: (79905, 28)\n",
      "shape after: (73795, 28)\n",
      "\n",
      "fare_amount\n",
      "bottom: -7.75\ttop: 30.25\n",
      "IQR: 9.5\n",
      "\n",
      "shape before: (73795, 28)\n",
      "shape after: (73474, 28)\n",
      "\n",
      "duration\n",
      "bottom: -10.524999999999995\ttop: 34.34166666666666\n",
      "IQR: 11.216666666666665\n",
      "\n",
      "shape before: (73474, 28)\n",
      "shape after: (72669, 28)\n",
      "\n",
      "pickup_longitude\n",
      "bottom: -74.03053665161133\ttop: -73.92705154418945\n",
      "IQR: 0.02587127685546875\n",
      "\n",
      "shape before: (72669, 28)\n",
      "shape after: (70318, 28)\n",
      "\n",
      "pickup_latitude\n",
      "bottom: 40.67900466918945\ttop: 40.81898880004883\n",
      "IQR: 0.03499603271484375\n",
      "\n",
      "shape before: (70318, 28)\n",
      "shape after: (68780, 28)\n",
      "\n",
      "dropoff_longitude\n",
      "bottom: -74.04473876953122\ttop: -73.89843750000003\n",
      "IQR: 0.03657531738279829\n",
      "\n",
      "shape before: (68780, 28)\n",
      "shape after: (67990, 28)\n",
      "\n",
      "dropoff_latitude\n",
      "bottom: 40.66801643371582\ttop: 40.83395576477051\n",
      "IQR: 0.041484832763671875\n",
      "\n",
      "shape before: (67990, 28)\n",
      "shape after: (66852, 28)\n",
      "\n"
     ]
    }
   ],
   "source": [
    "outliers_feats = ['trip_distance', 'fare_amount', 'duration']\n",
    "outliers_feats.extend(coordinates_feats)\n",
    "for feat in outliers_feats:\n",
    "    Q1 = copy[feat].quantile(.25)\n",
    "    Q3 = copy[feat].quantile(.75)\n",
    "    IQR = Q3 - Q1\n",
    "    \n",
    "    bottom_bound = Q1 - 1.5 * IQR\n",
    "    top_bound = Q3 + 1.5 * IQR\n",
    "    \n",
    "    print(f'{feat}\\nbottom: {bottom_bound}\\ttop: {top_bound}\\nIQR: {IQR}\\n')\n",
    "    \n",
    "    print(f'shape before: {df.shape}')\n",
    "    df = df[df[feat].between(bottom_bound, top_bound)]\n",
    "    print(f'shape after: {df.shape}\\n')"
   ]
  },
  {
   "cell_type": "code",
   "execution_count": 39,
   "id": "0f35abef",
   "metadata": {},
   "outputs": [
    {
     "name": "stderr",
     "output_type": "stream",
     "text": [
      "C:\\Users\\haimk\\anaconda3\\lib\\site-packages\\seaborn\\_decorators.py:36: FutureWarning: Pass the following variable as a keyword arg: x. From version 0.12, the only valid positional argument will be `data`, and passing other arguments without an explicit keyword will result in an error or misinterpretation.\n",
      "  warnings.warn(\n",
      "C:\\Users\\haimk\\anaconda3\\lib\\site-packages\\seaborn\\_decorators.py:36: FutureWarning: Pass the following variable as a keyword arg: x. From version 0.12, the only valid positional argument will be `data`, and passing other arguments without an explicit keyword will result in an error or misinterpretation.\n",
      "  warnings.warn(\n",
      "C:\\Users\\haimk\\anaconda3\\lib\\site-packages\\seaborn\\_decorators.py:36: FutureWarning: Pass the following variable as a keyword arg: x. From version 0.12, the only valid positional argument will be `data`, and passing other arguments without an explicit keyword will result in an error or misinterpretation.\n",
      "  warnings.warn(\n",
      "C:\\Users\\haimk\\anaconda3\\lib\\site-packages\\seaborn\\_decorators.py:36: FutureWarning: Pass the following variable as a keyword arg: x. From version 0.12, the only valid positional argument will be `data`, and passing other arguments without an explicit keyword will result in an error or misinterpretation.\n",
      "  warnings.warn(\n",
      "C:\\Users\\haimk\\anaconda3\\lib\\site-packages\\seaborn\\_decorators.py:36: FutureWarning: Pass the following variable as a keyword arg: x. From version 0.12, the only valid positional argument will be `data`, and passing other arguments without an explicit keyword will result in an error or misinterpretation.\n",
      "  warnings.warn(\n",
      "C:\\Users\\haimk\\anaconda3\\lib\\site-packages\\seaborn\\_decorators.py:36: FutureWarning: Pass the following variable as a keyword arg: x. From version 0.12, the only valid positional argument will be `data`, and passing other arguments without an explicit keyword will result in an error or misinterpretation.\n",
      "  warnings.warn(\n",
      "C:\\Users\\haimk\\anaconda3\\lib\\site-packages\\seaborn\\_decorators.py:36: FutureWarning: Pass the following variable as a keyword arg: x. From version 0.12, the only valid positional argument will be `data`, and passing other arguments without an explicit keyword will result in an error or misinterpretation.\n",
      "  warnings.warn(\n",
      "<ipython-input-39-c93f2c026d22>:9: UserWarning: Matplotlib is currently using module://ipykernel.pylab.backend_inline, which is a non-GUI backend, so cannot show the figure.\n",
      "  fig.show()\n"
     ]
    },
    {
     "data": {
      "image/png": "[encoded data removed]",
      "text/plain": [
       "<Figure size 1080x576 with 7 Axes>"
      ]
     },
     "metadata": {
      "needs_background": "light"
     },
     "output_type": "display_data"
    }
   ],
   "source": [
    "fig = plt.figure(figsize=(15, 8))\n",
    "\n",
    "for i, feat in enumerate(outliers_feats):\n",
    "    plt.subplot(2, 4, i + 1)\n",
    "    sns.boxplot(df[feat])\n",
    "    plt.xlabel(feat)\n",
    "\n",
    "fig.tight_layout()\n",
    "fig.show()"
   ]
  },
  {
   "cell_type": "code",
   "execution_count": 40,
   "id": "8e35eccb",
   "metadata": {},
   "outputs": [
    {
     "data": {
      "text/html": [
       "<div>\n",
       "<style scoped>\n",
       "    .dataframe tbody tr th:only-of-type {\n",
       "        vertical-align: middle;\n",
       "    }\n",
       "\n",
       "    .dataframe tbody tr th {\n",
       "        vertical-align: top;\n",
       "    }\n",
       "\n",
       "    .dataframe thead th {\n",
       "        text-align: right;\n",
       "    }\n",
       "</style>\n",
       "<table border=\"1\" class=\"dataframe\">\n",
       "  <thead>\n",
       "    <tr style=\"text-align: right;\">\n",
       "      <th></th>\n",
       "      <th>count</th>\n",
       "      <th>mean</th>\n",
       "      <th>std</th>\n",
       "      <th>min</th>\n",
       "      <th>25%</th>\n",
       "      <th>50%</th>\n",
       "      <th>75%</th>\n",
       "      <th>max</th>\n",
       "    </tr>\n",
       "  </thead>\n",
       "  <tbody>\n",
       "    <tr>\n",
       "      <th>passenger_count</th>\n",
       "      <td>66852.0</td>\n",
       "      <td>1.225049</td>\n",
       "      <td>0.417618</td>\n",
       "      <td>1.000000</td>\n",
       "      <td>1.000000</td>\n",
       "      <td>1.000000</td>\n",
       "      <td>1.000000</td>\n",
       "      <td>2.000000</td>\n",
       "    </tr>\n",
       "    <tr>\n",
       "      <th>trip_distance</th>\n",
       "      <td>66852.0</td>\n",
       "      <td>2.360732</td>\n",
       "      <td>1.697884</td>\n",
       "      <td>0.010000</td>\n",
       "      <td>1.100000</td>\n",
       "      <td>1.860000</td>\n",
       "      <td>3.200000</td>\n",
       "      <td>8.540000</td>\n",
       "    </tr>\n",
       "    <tr>\n",
       "      <th>pickup_longitude</th>\n",
       "      <td>66852.0</td>\n",
       "      <td>-73.980936</td>\n",
       "      <td>0.017202</td>\n",
       "      <td>-74.030319</td>\n",
       "      <td>-73.992378</td>\n",
       "      <td>-73.983604</td>\n",
       "      <td>-73.969986</td>\n",
       "      <td>-73.927055</td>\n",
       "    </tr>\n",
       "    <tr>\n",
       "      <th>pickup_latitude</th>\n",
       "      <td>66852.0</td>\n",
       "      <td>40.750405</td>\n",
       "      <td>0.024013</td>\n",
       "      <td>40.679062</td>\n",
       "      <td>40.733002</td>\n",
       "      <td>40.749926</td>\n",
       "      <td>40.766010</td>\n",
       "      <td>40.818981</td>\n",
       "    </tr>\n",
       "    <tr>\n",
       "      <th>dropoff_longitude</th>\n",
       "      <td>66852.0</td>\n",
       "      <td>-73.975416</td>\n",
       "      <td>0.021840</td>\n",
       "      <td>-74.041809</td>\n",
       "      <td>-73.990990</td>\n",
       "      <td>-73.979271</td>\n",
       "      <td>-73.959679</td>\n",
       "      <td>-73.898506</td>\n",
       "    </tr>\n",
       "    <tr>\n",
       "      <th>dropoff_latitude</th>\n",
       "      <td>66852.0</td>\n",
       "      <td>40.751538</td>\n",
       "      <td>0.028762</td>\n",
       "      <td>40.668018</td>\n",
       "      <td>40.733093</td>\n",
       "      <td>40.751389</td>\n",
       "      <td>40.770230</td>\n",
       "      <td>40.833935</td>\n",
       "    </tr>\n",
       "    <tr>\n",
       "      <th>fare_amount</th>\n",
       "      <td>66852.0</td>\n",
       "      <td>10.453990</td>\n",
       "      <td>5.272318</td>\n",
       "      <td>0.010000</td>\n",
       "      <td>6.500000</td>\n",
       "      <td>9.000000</td>\n",
       "      <td>13.500000</td>\n",
       "      <td>30.000000</td>\n",
       "    </tr>\n",
       "    <tr>\n",
       "      <th>pickup_day</th>\n",
       "      <td>66852.0</td>\n",
       "      <td>4.339436</td>\n",
       "      <td>0.476168</td>\n",
       "      <td>0.000000</td>\n",
       "      <td>4.000000</td>\n",
       "      <td>4.000000</td>\n",
       "      <td>5.000000</td>\n",
       "      <td>6.000000</td>\n",
       "    </tr>\n",
       "    <tr>\n",
       "      <th>dropoff_day</th>\n",
       "      <td>66852.0</td>\n",
       "      <td>4.339436</td>\n",
       "      <td>0.476168</td>\n",
       "      <td>0.000000</td>\n",
       "      <td>4.000000</td>\n",
       "      <td>4.000000</td>\n",
       "      <td>5.000000</td>\n",
       "      <td>6.000000</td>\n",
       "    </tr>\n",
       "    <tr>\n",
       "      <th>pickup_hour</th>\n",
       "      <td>66852.0</td>\n",
       "      <td>2.166233</td>\n",
       "      <td>3.063810</td>\n",
       "      <td>0.000000</td>\n",
       "      <td>0.000000</td>\n",
       "      <td>1.000000</td>\n",
       "      <td>2.000000</td>\n",
       "      <td>22.000000</td>\n",
       "    </tr>\n",
       "    <tr>\n",
       "      <th>dropoff_hour</th>\n",
       "      <td>66852.0</td>\n",
       "      <td>2.346033</td>\n",
       "      <td>3.054261</td>\n",
       "      <td>0.000000</td>\n",
       "      <td>1.000000</td>\n",
       "      <td>1.000000</td>\n",
       "      <td>2.000000</td>\n",
       "      <td>22.000000</td>\n",
       "    </tr>\n",
       "    <tr>\n",
       "      <th>pickup_minute</th>\n",
       "      <td>66852.0</td>\n",
       "      <td>28.604873</td>\n",
       "      <td>17.686076</td>\n",
       "      <td>0.000000</td>\n",
       "      <td>13.000000</td>\n",
       "      <td>29.000000</td>\n",
       "      <td>44.000000</td>\n",
       "      <td>59.000000</td>\n",
       "    </tr>\n",
       "    <tr>\n",
       "      <th>dropoff_minute</th>\n",
       "      <td>66852.0</td>\n",
       "      <td>28.922067</td>\n",
       "      <td>17.254846</td>\n",
       "      <td>0.000000</td>\n",
       "      <td>14.000000</td>\n",
       "      <td>28.000000</td>\n",
       "      <td>44.000000</td>\n",
       "      <td>59.000000</td>\n",
       "    </tr>\n",
       "    <tr>\n",
       "      <th>duration</th>\n",
       "      <td>66852.0</td>\n",
       "      <td>11.105586</td>\n",
       "      <td>6.798509</td>\n",
       "      <td>0.016667</td>\n",
       "      <td>5.850000</td>\n",
       "      <td>9.650000</td>\n",
       "      <td>15.000000</td>\n",
       "      <td>34.333333</td>\n",
       "    </tr>\n",
       "  </tbody>\n",
       "</table>\n",
       "</div>"
      ],
      "text/plain": [
       "                     count       mean        std        min        25%  \\\n",
       "passenger_count    66852.0   1.225049   0.417618   1.000000   1.000000   \n",
       "trip_distance      66852.0   2.360732   1.697884   0.010000   1.100000   \n",
       "pickup_longitude   66852.0 -73.980936   0.017202 -74.030319 -73.992378   \n",
       "pickup_latitude    66852.0  40.750405   0.024013  40.679062  40.733002   \n",
       "dropoff_longitude  66852.0 -73.975416   0.021840 -74.041809 -73.990990   \n",
       "dropoff_latitude   66852.0  40.751538   0.028762  40.668018  40.733093   \n",
       "fare_amount        66852.0  10.453990   5.272318   0.010000   6.500000   \n",
       "pickup_day         66852.0   4.339436   0.476168   0.000000   4.000000   \n",
       "dropoff_day        66852.0   4.339436   0.476168   0.000000   4.000000   \n",
       "pickup_hour        66852.0   2.166233   3.063810   0.000000   0.000000   \n",
       "dropoff_hour       66852.0   2.346033   3.054261   0.000000   1.000000   \n",
       "pickup_minute      66852.0  28.604873  17.686076   0.000000  13.000000   \n",
       "dropoff_minute     66852.0  28.922067  17.254846   0.000000  14.000000   \n",
       "duration           66852.0  11.105586   6.798509   0.016667   5.850000   \n",
       "\n",
       "                         50%        75%        max  \n",
       "passenger_count     1.000000   1.000000   2.000000  \n",
       "trip_distance       1.860000   3.200000   8.540000  \n",
       "pickup_longitude  -73.983604 -73.969986 -73.927055  \n",
       "pickup_latitude    40.749926  40.766010  40.818981  \n",
       "dropoff_longitude -73.979271 -73.959679 -73.898506  \n",
       "dropoff_latitude   40.751389  40.770230  40.833935  \n",
       "fare_amount         9.000000  13.500000  30.000000  \n",
       "pickup_day          4.000000   5.000000   6.000000  \n",
       "dropoff_day         4.000000   5.000000   6.000000  \n",
       "pickup_hour         1.000000   2.000000  22.000000  \n",
       "dropoff_hour        1.000000   2.000000  22.000000  \n",
       "pickup_minute      29.000000  44.000000  59.000000  \n",
       "dropoff_minute     28.000000  44.000000  59.000000  \n",
       "duration            9.650000  15.000000  34.333333  "
      ]
     },
     "execution_count": 40,
     "metadata": {},
     "output_type": "execute_result"
    }
   ],
   "source": [
    "df[relevant_feats].describe().T"
   ]
  },
  {
   "cell_type": "code",
   "execution_count": 41,
   "id": "6e6beab8",
   "metadata": {
    "scrolled": false
   },
   "outputs": [
    {
     "name": "stderr",
     "output_type": "stream",
     "text": [
      "<ipython-input-41-3b21a08b2d65>:1: FutureWarning: Treating datetime data as categorical rather than numeric in `.describe` is deprecated and will be removed in a future version of pandas. Specify `datetime_is_numeric=True` to silence this warning and adopt the future behavior now.\n",
      "  df[relevant_feats].describe(exclude=np.number).T\n",
      "<ipython-input-41-3b21a08b2d65>:1: FutureWarning: Treating datetime data as categorical rather than numeric in `.describe` is deprecated and will be removed in a future version of pandas. Specify `datetime_is_numeric=True` to silence this warning and adopt the future behavior now.\n",
      "  df[relevant_feats].describe(exclude=np.number).T\n"
     ]
    },
    {
     "data": {
      "text/html": [
       "<div>\n",
       "<style scoped>\n",
       "    .dataframe tbody tr th:only-of-type {\n",
       "        vertical-align: middle;\n",
       "    }\n",
       "\n",
       "    .dataframe tbody tr th {\n",
       "        vertical-align: top;\n",
       "    }\n",
       "\n",
       "    .dataframe thead th {\n",
       "        text-align: right;\n",
       "    }\n",
       "</style>\n",
       "<table border=\"1\" class=\"dataframe\">\n",
       "  <thead>\n",
       "    <tr style=\"text-align: right;\">\n",
       "      <th></th>\n",
       "      <th>count</th>\n",
       "      <th>unique</th>\n",
       "      <th>top</th>\n",
       "      <th>freq</th>\n",
       "      <th>first</th>\n",
       "      <th>last</th>\n",
       "    </tr>\n",
       "  </thead>\n",
       "  <tbody>\n",
       "    <tr>\n",
       "      <th>dropoff_datetime</th>\n",
       "      <td>66852</td>\n",
       "      <td>25243</td>\n",
       "      <td>2016-01-01 01:17:08</td>\n",
       "      <td>16</td>\n",
       "      <td>2016-01-01 00:01:17</td>\n",
       "      <td>2016-01-29 12:42:52</td>\n",
       "    </tr>\n",
       "    <tr>\n",
       "      <th>pickup_datetime</th>\n",
       "      <td>66852</td>\n",
       "      <td>22753</td>\n",
       "      <td>2016-01-01 00:32:43</td>\n",
       "      <td>17</td>\n",
       "      <td>2016-01-01 00:00:00</td>\n",
       "      <td>2016-01-29 12:08:57</td>\n",
       "    </tr>\n",
       "  </tbody>\n",
       "</table>\n",
       "</div>"
      ],
      "text/plain": [
       "                  count unique                 top freq               first  \\\n",
       "dropoff_datetime  66852  25243 2016-01-01 01:17:08   16 2016-01-01 00:01:17   \n",
       "pickup_datetime   66852  22753 2016-01-01 00:32:43   17 2016-01-01 00:00:00   \n",
       "\n",
       "                                last  \n",
       "dropoff_datetime 2016-01-29 12:42:52  \n",
       "pickup_datetime  2016-01-29 12:08:57  "
      ]
     },
     "execution_count": 41,
     "metadata": {},
     "output_type": "execute_result"
    }
   ],
   "source": [
    "df[relevant_feats].describe(exclude=np.number).T"
   ]
  },
  {
   "cell_type": "code",
   "execution_count": 42,
   "id": "c73fa7ea",
   "metadata": {},
   "outputs": [],
   "source": [
    "from sklearn.preprocessing import StandardScaler"
   ]
  },
  {
   "cell_type": "code",
   "execution_count": 43,
   "id": "54c12714",
   "metadata": {},
   "outputs": [],
   "source": [
    "output_feats = ['pickup_day', 'pickup_hour', 'pickup_minute', 'passenger_count', 'trip_distance', \n",
    "               'pickup_longitude', 'pickup_latitude', 'dropoff_longitude', 'dropoff_latitude',\n",
    "               'fare_amount', 'duration']"
   ]
  },
  {
   "cell_type": "code",
   "execution_count": 44,
   "id": "1cb9c15f",
   "metadata": {},
   "outputs": [],
   "source": [
    "to_scale = df[output_feats]\n",
    "scaler = StandardScaler()\n",
    "scaler.fit(to_scale)\n",
    "scaled_data = scaler.transform(to_scale)\n",
    "scaled_df = pd.DataFrame(scaled_data, columns=output_feats)"
   ]
  },
  {
   "cell_type": "code",
   "execution_count": 45,
   "id": "a7682321",
   "metadata": {},
   "outputs": [],
   "source": [
    "price_feats = ['pickup_day', 'pickup_hour', 'pickup_minute', 'passenger_count', 'trip_distance', \n",
    "               'pickup_longitude', 'pickup_latitude', 'dropoff_longitude', 'dropoff_latitude',\n",
    "               'fare_amount']\n",
    "\n",
    "duration_feats = ['pickup_day', 'pickup_hour', 'pickup_minute', 'trip_distance', \n",
    "                  'pickup_longitude', 'pickup_latitude', 'dropoff_longitude', 'dropoff_latitude',\n",
    "                  'duration']"
   ]
  },
  {
   "cell_type": "code",
   "execution_count": 46,
   "id": "3f8e4603",
   "metadata": {},
   "outputs": [
    {
     "data": {
      "text/html": [
       "<div>\n",
       "<style scoped>\n",
       "    .dataframe tbody tr th:only-of-type {\n",
       "        vertical-align: middle;\n",
       "    }\n",
       "\n",
       "    .dataframe tbody tr th {\n",
       "        vertical-align: top;\n",
       "    }\n",
       "\n",
       "    .dataframe thead th {\n",
       "        text-align: right;\n",
       "    }\n",
       "</style>\n",
       "<table border=\"1\" class=\"dataframe\">\n",
       "  <thead>\n",
       "    <tr style=\"text-align: right;\">\n",
       "      <th></th>\n",
       "      <th>pickup_day</th>\n",
       "      <th>pickup_hour</th>\n",
       "      <th>pickup_minute</th>\n",
       "      <th>passenger_count</th>\n",
       "      <th>trip_distance</th>\n",
       "      <th>pickup_longitude</th>\n",
       "      <th>pickup_latitude</th>\n",
       "      <th>dropoff_longitude</th>\n",
       "      <th>dropoff_latitude</th>\n",
       "      <th>fare_amount</th>\n",
       "    </tr>\n",
       "  </thead>\n",
       "  <tbody>\n",
       "    <tr>\n",
       "      <th>0</th>\n",
       "      <td>-0.712856</td>\n",
       "      <td>-0.707044</td>\n",
       "      <td>-1.617379</td>\n",
       "      <td>1.855659</td>\n",
       "      <td>1.860723</td>\n",
       "      <td>0.047550</td>\n",
       "      <td>-0.306325</td>\n",
       "      <td>2.835430</td>\n",
       "      <td>0.403426</td>\n",
       "      <td>1.620933</td>\n",
       "    </tr>\n",
       "    <tr>\n",
       "      <th>1</th>\n",
       "      <td>-0.712856</td>\n",
       "      <td>-0.707044</td>\n",
       "      <td>-1.617379</td>\n",
       "      <td>1.855659</td>\n",
       "      <td>2.997441</td>\n",
       "      <td>-0.762775</td>\n",
       "      <td>-1.266622</td>\n",
       "      <td>0.414554</td>\n",
       "      <td>1.332761</td>\n",
       "      <td>2.948632</td>\n",
       "    </tr>\n",
       "    <tr>\n",
       "      <th>2</th>\n",
       "      <td>-0.712856</td>\n",
       "      <td>-0.707044</td>\n",
       "      <td>-1.617379</td>\n",
       "      <td>-0.538892</td>\n",
       "      <td>-0.683640</td>\n",
       "      <td>0.087911</td>\n",
       "      <td>-0.241193</td>\n",
       "      <td>-0.760951</td>\n",
       "      <td>0.083656</td>\n",
       "      <td>-0.275780</td>\n",
       "    </tr>\n",
       "    <tr>\n",
       "      <th>3</th>\n",
       "      <td>-0.712856</td>\n",
       "      <td>-0.707044</td>\n",
       "      <td>-1.617379</td>\n",
       "      <td>-0.538892</td>\n",
       "      <td>0.500196</td>\n",
       "      <td>-1.012038</td>\n",
       "      <td>-1.103952</td>\n",
       "      <td>-0.935617</td>\n",
       "      <td>-2.195185</td>\n",
       "      <td>0.198398</td>\n",
       "    </tr>\n",
       "    <tr>\n",
       "      <th>4</th>\n",
       "      <td>-0.712856</td>\n",
       "      <td>-0.707044</td>\n",
       "      <td>-1.617379</td>\n",
       "      <td>-0.538892</td>\n",
       "      <td>-0.925119</td>\n",
       "      <td>-1.465767</td>\n",
       "      <td>-0.228484</td>\n",
       "      <td>-0.841647</td>\n",
       "      <td>-0.351103</td>\n",
       "      <td>-0.844794</td>\n",
       "    </tr>\n",
       "  </tbody>\n",
       "</table>\n",
       "</div>"
      ],
      "text/plain": [
       "   pickup_day  pickup_hour  pickup_minute  passenger_count  trip_distance  \\\n",
       "0   -0.712856    -0.707044      -1.617379         1.855659       1.860723   \n",
       "1   -0.712856    -0.707044      -1.617379         1.855659       2.997441   \n",
       "2   -0.712856    -0.707044      -1.617379        -0.538892      -0.683640   \n",
       "3   -0.712856    -0.707044      -1.617379        -0.538892       0.500196   \n",
       "4   -0.712856    -0.707044      -1.617379        -0.538892      -0.925119   \n",
       "\n",
       "   pickup_longitude  pickup_latitude  dropoff_longitude  dropoff_latitude  \\\n",
       "0          0.047550        -0.306325           2.835430          0.403426   \n",
       "1         -0.762775        -1.266622           0.414554          1.332761   \n",
       "2          0.087911        -0.241193          -0.760951          0.083656   \n",
       "3         -1.012038        -1.103952          -0.935617         -2.195185   \n",
       "4         -1.465767        -0.228484          -0.841647         -0.351103   \n",
       "\n",
       "   fare_amount  \n",
       "0     1.620933  \n",
       "1     2.948632  \n",
       "2    -0.275780  \n",
       "3     0.198398  \n",
       "4    -0.844794  "
      ]
     },
     "execution_count": 46,
     "metadata": {},
     "output_type": "execute_result"
    }
   ],
   "source": [
    "price_output = scaled_df[price_feats]\n",
    "price_output.head()"
   ]
  },
  {
   "cell_type": "code",
   "execution_count": 47,
   "id": "85adcf31",
   "metadata": {},
   "outputs": [],
   "source": [
    "compression_opts = dict(method='zip', archive_name='price_model_data.csv')\n",
    "price_output.to_csv('price_model_data.zip', compression=compression_opts)"
   ]
  },
  {
   "cell_type": "code",
   "execution_count": 48,
   "id": "3d632f67",
   "metadata": {},
   "outputs": [
    {
     "data": {
      "text/html": [
       "<div>\n",
       "<style scoped>\n",
       "    .dataframe tbody tr th:only-of-type {\n",
       "        vertical-align: middle;\n",
       "    }\n",
       "\n",
       "    .dataframe tbody tr th {\n",
       "        vertical-align: top;\n",
       "    }\n",
       "\n",
       "    .dataframe thead th {\n",
       "        text-align: right;\n",
       "    }\n",
       "</style>\n",
       "<table border=\"1\" class=\"dataframe\">\n",
       "  <thead>\n",
       "    <tr style=\"text-align: right;\">\n",
       "      <th></th>\n",
       "      <th>pickup_day</th>\n",
       "      <th>pickup_hour</th>\n",
       "      <th>pickup_minute</th>\n",
       "      <th>trip_distance</th>\n",
       "      <th>pickup_longitude</th>\n",
       "      <th>pickup_latitude</th>\n",
       "      <th>dropoff_longitude</th>\n",
       "      <th>dropoff_latitude</th>\n",
       "      <th>duration</th>\n",
       "    </tr>\n",
       "  </thead>\n",
       "  <tbody>\n",
       "    <tr>\n",
       "      <th>0</th>\n",
       "      <td>-0.712856</td>\n",
       "      <td>-0.707044</td>\n",
       "      <td>-1.617379</td>\n",
       "      <td>1.860723</td>\n",
       "      <td>0.047550</td>\n",
       "      <td>-0.306325</td>\n",
       "      <td>2.835430</td>\n",
       "      <td>0.403426</td>\n",
       "      <td>1.087660</td>\n",
       "    </tr>\n",
       "    <tr>\n",
       "      <th>1</th>\n",
       "      <td>-0.712856</td>\n",
       "      <td>-0.707044</td>\n",
       "      <td>-1.617379</td>\n",
       "      <td>2.997441</td>\n",
       "      <td>-0.762775</td>\n",
       "      <td>-1.266622</td>\n",
       "      <td>0.414554</td>\n",
       "      <td>1.332761</td>\n",
       "      <td>2.301171</td>\n",
       "    </tr>\n",
       "    <tr>\n",
       "      <th>2</th>\n",
       "      <td>-0.712856</td>\n",
       "      <td>-0.707044</td>\n",
       "      <td>-1.617379</td>\n",
       "      <td>-0.683640</td>\n",
       "      <td>0.087911</td>\n",
       "      <td>-0.241193</td>\n",
       "      <td>-0.760951</td>\n",
       "      <td>0.083656</td>\n",
       "      <td>0.116852</td>\n",
       "    </tr>\n",
       "    <tr>\n",
       "      <th>3</th>\n",
       "      <td>-0.712856</td>\n",
       "      <td>-0.707044</td>\n",
       "      <td>-1.617379</td>\n",
       "      <td>0.500196</td>\n",
       "      <td>-1.012038</td>\n",
       "      <td>-1.103952</td>\n",
       "      <td>-0.935617</td>\n",
       "      <td>-2.195185</td>\n",
       "      <td>-0.000822</td>\n",
       "    </tr>\n",
       "    <tr>\n",
       "      <th>4</th>\n",
       "      <td>-0.712856</td>\n",
       "      <td>-0.707044</td>\n",
       "      <td>-1.617379</td>\n",
       "      <td>-0.925119</td>\n",
       "      <td>-1.465767</td>\n",
       "      <td>-0.228484</td>\n",
       "      <td>-0.841647</td>\n",
       "      <td>-0.351103</td>\n",
       "      <td>-0.711767</td>\n",
       "    </tr>\n",
       "  </tbody>\n",
       "</table>\n",
       "</div>"
      ],
      "text/plain": [
       "   pickup_day  pickup_hour  pickup_minute  trip_distance  pickup_longitude  \\\n",
       "0   -0.712856    -0.707044      -1.617379       1.860723          0.047550   \n",
       "1   -0.712856    -0.707044      -1.617379       2.997441         -0.762775   \n",
       "2   -0.712856    -0.707044      -1.617379      -0.683640          0.087911   \n",
       "3   -0.712856    -0.707044      -1.617379       0.500196         -1.012038   \n",
       "4   -0.712856    -0.707044      -1.617379      -0.925119         -1.465767   \n",
       "\n",
       "   pickup_latitude  dropoff_longitude  dropoff_latitude  duration  \n",
       "0        -0.306325           2.835430          0.403426  1.087660  \n",
       "1        -1.266622           0.414554          1.332761  2.301171  \n",
       "2        -0.241193          -0.760951          0.083656  0.116852  \n",
       "3        -1.103952          -0.935617         -2.195185 -0.000822  \n",
       "4        -0.228484          -0.841647         -0.351103 -0.711767  "
      ]
     },
     "execution_count": 48,
     "metadata": {},
     "output_type": "execute_result"
    }
   ],
   "source": [
    "duration_output = scaled_df[duration_feats]\n",
    "duration_output.head()"
   ]
  },
  {
   "cell_type": "code",
   "execution_count": 49,
   "id": "edfac18c",
   "metadata": {},
   "outputs": [],
   "source": [
    "compression_opts = dict(method='zip', archive_name='duration_model_data.csv')\n",
    "duration_output.to_csv('duration_model_data.zip', compression=compression_opts)"
   ]
  },
  {
   "cell_type": "code",
   "execution_count": null,
   "id": "037270b2",
   "metadata": {},
   "outputs": [],
   "source": []
  }
 ],
 "metadata": {
  "kernelspec": {
   "display_name": "Python 3",
   "language": "python",
   "name": "python3"
  },
  "language_info": {
   "codemirror_mode": {
    "name": "ipython",
    "version": 3
   },
   "file_extension": ".py",
   "mimetype": "text/x-python",
   "name": "python",
   "nbconvert_exporter": "python",
   "pygments_lexer": "ipython3",
   "version": "3.8.8"
  }
 },
 "nbformat": 4,
 "nbformat_minor": 5
}
