{
 "cells": [
  {
   "cell_type": "code",
   "execution_count": 1,
   "id": "a96ca68f",
   "metadata": {},
   "outputs": [],
   "source": [
    "import pandas as pd\n",
    "\n",
    "from sklearn.model_selection import train_test_split, cross_val_score\n",
    "from sklearn.linear_model import LinearRegression\n",
    "import xgboost as xg\n",
    "\n",
    "import pickle"
   ]
  },
  {
   "cell_type": "markdown",
   "id": "9b36c49e",
   "metadata": {},
   "source": [
    "**price model:**"
   ]
  },
  {
   "cell_type": "code",
   "execution_count": 2,
   "id": "4fd86077",
   "metadata": {
    "scrolled": true
   },
   "outputs": [
    {
     "data": {
      "text/html": [
       "<div>\n",
       "<style scoped>\n",
       "    .dataframe tbody tr th:only-of-type {\n",
       "        vertical-align: middle;\n",
       "    }\n",
       "\n",
       "    .dataframe tbody tr th {\n",
       "        vertical-align: top;\n",
       "    }\n",
       "\n",
       "    .dataframe thead th {\n",
       "        text-align: right;\n",
       "    }\n",
       "</style>\n",
       "<table border=\"1\" class=\"dataframe\">\n",
       "  <thead>\n",
       "    <tr style=\"text-align: right;\">\n",
       "      <th></th>\n",
       "      <th>pickup_day</th>\n",
       "      <th>pickup_hour</th>\n",
       "      <th>pickup_minute</th>\n",
       "      <th>passenger_count</th>\n",
       "      <th>trip_distance</th>\n",
       "      <th>pickup_longitude</th>\n",
       "      <th>pickup_latitude</th>\n",
       "      <th>dropoff_longitude</th>\n",
       "      <th>dropoff_latitude</th>\n",
       "      <th>fare_amount</th>\n",
       "    </tr>\n",
       "  </thead>\n",
       "  <tbody>\n",
       "    <tr>\n",
       "      <th>0</th>\n",
       "      <td>-0.712856</td>\n",
       "      <td>-0.707044</td>\n",
       "      <td>-1.617379</td>\n",
       "      <td>1.855659</td>\n",
       "      <td>1.860723</td>\n",
       "      <td>0.047550</td>\n",
       "      <td>-0.306325</td>\n",
       "      <td>2.835430</td>\n",
       "      <td>0.403426</td>\n",
       "      <td>1.620933</td>\n",
       "    </tr>\n",
       "    <tr>\n",
       "      <th>1</th>\n",
       "      <td>-0.712856</td>\n",
       "      <td>-0.707044</td>\n",
       "      <td>-1.617379</td>\n",
       "      <td>1.855659</td>\n",
       "      <td>2.997441</td>\n",
       "      <td>-0.762775</td>\n",
       "      <td>-1.266622</td>\n",
       "      <td>0.414554</td>\n",
       "      <td>1.332761</td>\n",
       "      <td>2.948632</td>\n",
       "    </tr>\n",
       "    <tr>\n",
       "      <th>2</th>\n",
       "      <td>-0.712856</td>\n",
       "      <td>-0.707044</td>\n",
       "      <td>-1.617379</td>\n",
       "      <td>-0.538892</td>\n",
       "      <td>-0.683640</td>\n",
       "      <td>0.087911</td>\n",
       "      <td>-0.241193</td>\n",
       "      <td>-0.760951</td>\n",
       "      <td>0.083656</td>\n",
       "      <td>-0.275780</td>\n",
       "    </tr>\n",
       "    <tr>\n",
       "      <th>3</th>\n",
       "      <td>-0.712856</td>\n",
       "      <td>-0.707044</td>\n",
       "      <td>-1.617379</td>\n",
       "      <td>-0.538892</td>\n",
       "      <td>0.500196</td>\n",
       "      <td>-1.012038</td>\n",
       "      <td>-1.103952</td>\n",
       "      <td>-0.935617</td>\n",
       "      <td>-2.195185</td>\n",
       "      <td>0.198398</td>\n",
       "    </tr>\n",
       "    <tr>\n",
       "      <th>4</th>\n",
       "      <td>-0.712856</td>\n",
       "      <td>-0.707044</td>\n",
       "      <td>-1.617379</td>\n",
       "      <td>-0.538892</td>\n",
       "      <td>-0.925119</td>\n",
       "      <td>-1.465767</td>\n",
       "      <td>-0.228484</td>\n",
       "      <td>-0.841647</td>\n",
       "      <td>-0.351103</td>\n",
       "      <td>-0.844794</td>\n",
       "    </tr>\n",
       "  </tbody>\n",
       "</table>\n",
       "</div>"
      ],
      "text/plain": [
       "   pickup_day  pickup_hour  pickup_minute  passenger_count  trip_distance  \\\n",
       "0   -0.712856    -0.707044      -1.617379         1.855659       1.860723   \n",
       "1   -0.712856    -0.707044      -1.617379         1.855659       2.997441   \n",
       "2   -0.712856    -0.707044      -1.617379        -0.538892      -0.683640   \n",
       "3   -0.712856    -0.707044      -1.617379        -0.538892       0.500196   \n",
       "4   -0.712856    -0.707044      -1.617379        -0.538892      -0.925119   \n",
       "\n",
       "   pickup_longitude  pickup_latitude  dropoff_longitude  dropoff_latitude  \\\n",
       "0          0.047550        -0.306325           2.835430          0.403426   \n",
       "1         -0.762775        -1.266622           0.414554          1.332761   \n",
       "2          0.087911        -0.241193          -0.760951          0.083656   \n",
       "3         -1.012038        -1.103952          -0.935617         -2.195185   \n",
       "4         -1.465767        -0.228484          -0.841647         -0.351103   \n",
       "\n",
       "   fare_amount  \n",
       "0     1.620933  \n",
       "1     2.948632  \n",
       "2    -0.275780  \n",
       "3     0.198398  \n",
       "4    -0.844794  "
      ]
     },
     "execution_count": 2,
     "metadata": {},
     "output_type": "execute_result"
    }
   ],
   "source": [
    "price_df = pd.read_csv('price_model_data.zip')\n",
    "price_df.drop(columns=['Unnamed: 0'], inplace=True)\n",
    "price_df.head()"
   ]
  },
  {
   "cell_type": "code",
   "execution_count": 3,
   "id": "fb7e51c6",
   "metadata": {},
   "outputs": [],
   "source": [
    "features_p = list(price_df.columns)\n",
    "target_p = 'fare_amount'\n",
    "features_p.remove(target_p)"
   ]
  },
  {
   "cell_type": "code",
   "execution_count": 4,
   "id": "d498f6b4",
   "metadata": {},
   "outputs": [
    {
     "data": {
      "text/plain": [
       "((53481, 9), (13371, 9), (53481,), (13371,))"
      ]
     },
     "execution_count": 4,
     "metadata": {},
     "output_type": "execute_result"
    }
   ],
   "source": [
    "X_p = price_df[features_p]\n",
    "y_p = price_df[target_p]\n",
    "\n",
    "X_p_train, X_p_test, y_p_train, y_p_test = train_test_split(X_p, y_p, test_size=0.2, random_state=42)\n",
    "X_p_train.shape, X_p_test.shape, y_p_train.shape, y_p_test.shape"
   ]
  },
  {
   "cell_type": "code",
   "execution_count": 5,
   "id": "a8e64c2c",
   "metadata": {},
   "outputs": [],
   "source": [
    "baseline_p = LinearRegression()\n",
    "baseline_p.fit(X_p_train, y_p_train)\n",
    "baseline_p_pred = baseline_p.predict(X_p_test)\n",
    "\n",
    "baseline_p_r2_scores = cross_val_score(baseline_p, X_p_train, y_p_train, scoring='r2')\n",
    "baseline_p_rmse_scores = -cross_val_score(baseline_p, X_p_train, y_p_train, scoring='neg_root_mean_squared_error')\n",
    "\n",
    "baseline_p_r2 = baseline_p_r2_scores.mean()\n",
    "baseline_p_rmse = baseline_p_rmse_scores.mean()"
   ]
  },
  {
   "cell_type": "code",
   "execution_count": 6,
   "id": "2c17c55b",
   "metadata": {},
   "outputs": [],
   "source": [
    "price_regr = xg.XGBRegressor(objective='reg:squarederror', n_estimators = 100)\n",
    "price_regr.fit(X_p_train, y_p_train)\n",
    "\n",
    "price_r2_scores = cross_val_score(price_regr, X_p_train, y_p_train, scoring='r2')\n",
    "price_rmse_scores = -cross_val_score(price_regr, X_p_train, y_p_train, scoring='neg_root_mean_squared_error')\n",
    "\n",
    "price_r2 = price_r2_scores.mean()\n",
    "price_rmse = price_rmse_scores.mean()"
   ]
  },
  {
   "cell_type": "code",
   "execution_count": 7,
   "id": "d54c620e",
   "metadata": {},
   "outputs": [
    {
     "name": "stdout",
     "output_type": "stream",
     "text": [
      "price baseline model scores:\n",
      "\n",
      "r2: 0.920\trmse:0.282\n",
      "\n",
      "\n",
      "price model scores:\n",
      "\n",
      "r2: 0.949\trmse:0.226\n"
     ]
    }
   ],
   "source": [
    "print(f'price baseline model scores:\\n\\nr2: {baseline_p_r2:.3f}\\trmse:{baseline_p_rmse:.3f}\\n\\n')\n",
    "print(f'price model scores:\\n\\nr2: {price_r2:.3f}\\trmse:{price_rmse:.3f}')"
   ]
  },
  {
   "cell_type": "markdown",
   "id": "de3abe7d",
   "metadata": {},
   "source": [
    "**duration model:**"
   ]
  },
  {
   "cell_type": "code",
   "execution_count": 8,
   "id": "faf915a5",
   "metadata": {
    "scrolled": true
   },
   "outputs": [
    {
     "data": {
      "text/html": [
       "<div>\n",
       "<style scoped>\n",
       "    .dataframe tbody tr th:only-of-type {\n",
       "        vertical-align: middle;\n",
       "    }\n",
       "\n",
       "    .dataframe tbody tr th {\n",
       "        vertical-align: top;\n",
       "    }\n",
       "\n",
       "    .dataframe thead th {\n",
       "        text-align: right;\n",
       "    }\n",
       "</style>\n",
       "<table border=\"1\" class=\"dataframe\">\n",
       "  <thead>\n",
       "    <tr style=\"text-align: right;\">\n",
       "      <th></th>\n",
       "      <th>pickup_day</th>\n",
       "      <th>pickup_hour</th>\n",
       "      <th>pickup_minute</th>\n",
       "      <th>trip_distance</th>\n",
       "      <th>pickup_longitude</th>\n",
       "      <th>pickup_latitude</th>\n",
       "      <th>dropoff_longitude</th>\n",
       "      <th>dropoff_latitude</th>\n",
       "      <th>duration</th>\n",
       "    </tr>\n",
       "  </thead>\n",
       "  <tbody>\n",
       "    <tr>\n",
       "      <th>0</th>\n",
       "      <td>-0.712856</td>\n",
       "      <td>-0.707044</td>\n",
       "      <td>-1.617379</td>\n",
       "      <td>1.860723</td>\n",
       "      <td>0.047550</td>\n",
       "      <td>-0.306325</td>\n",
       "      <td>2.835430</td>\n",
       "      <td>0.403426</td>\n",
       "      <td>1.087660</td>\n",
       "    </tr>\n",
       "    <tr>\n",
       "      <th>1</th>\n",
       "      <td>-0.712856</td>\n",
       "      <td>-0.707044</td>\n",
       "      <td>-1.617379</td>\n",
       "      <td>2.997441</td>\n",
       "      <td>-0.762775</td>\n",
       "      <td>-1.266622</td>\n",
       "      <td>0.414554</td>\n",
       "      <td>1.332761</td>\n",
       "      <td>2.301171</td>\n",
       "    </tr>\n",
       "    <tr>\n",
       "      <th>2</th>\n",
       "      <td>-0.712856</td>\n",
       "      <td>-0.707044</td>\n",
       "      <td>-1.617379</td>\n",
       "      <td>-0.683640</td>\n",
       "      <td>0.087911</td>\n",
       "      <td>-0.241193</td>\n",
       "      <td>-0.760951</td>\n",
       "      <td>0.083656</td>\n",
       "      <td>0.116852</td>\n",
       "    </tr>\n",
       "    <tr>\n",
       "      <th>3</th>\n",
       "      <td>-0.712856</td>\n",
       "      <td>-0.707044</td>\n",
       "      <td>-1.617379</td>\n",
       "      <td>0.500196</td>\n",
       "      <td>-1.012038</td>\n",
       "      <td>-1.103952</td>\n",
       "      <td>-0.935617</td>\n",
       "      <td>-2.195185</td>\n",
       "      <td>-0.000822</td>\n",
       "    </tr>\n",
       "    <tr>\n",
       "      <th>4</th>\n",
       "      <td>-0.712856</td>\n",
       "      <td>-0.707044</td>\n",
       "      <td>-1.617379</td>\n",
       "      <td>-0.925119</td>\n",
       "      <td>-1.465767</td>\n",
       "      <td>-0.228484</td>\n",
       "      <td>-0.841647</td>\n",
       "      <td>-0.351103</td>\n",
       "      <td>-0.711767</td>\n",
       "    </tr>\n",
       "  </tbody>\n",
       "</table>\n",
       "</div>"
      ],
      "text/plain": [
       "   pickup_day  pickup_hour  pickup_minute  trip_distance  pickup_longitude  \\\n",
       "0   -0.712856    -0.707044      -1.617379       1.860723          0.047550   \n",
       "1   -0.712856    -0.707044      -1.617379       2.997441         -0.762775   \n",
       "2   -0.712856    -0.707044      -1.617379      -0.683640          0.087911   \n",
       "3   -0.712856    -0.707044      -1.617379       0.500196         -1.012038   \n",
       "4   -0.712856    -0.707044      -1.617379      -0.925119         -1.465767   \n",
       "\n",
       "   pickup_latitude  dropoff_longitude  dropoff_latitude  duration  \n",
       "0        -0.306325           2.835430          0.403426  1.087660  \n",
       "1        -1.266622           0.414554          1.332761  2.301171  \n",
       "2        -0.241193          -0.760951          0.083656  0.116852  \n",
       "3        -1.103952          -0.935617         -2.195185 -0.000822  \n",
       "4        -0.228484          -0.841647         -0.351103 -0.711767  "
      ]
     },
     "execution_count": 8,
     "metadata": {},
     "output_type": "execute_result"
    }
   ],
   "source": [
    "duration_df = pd.read_csv('duration_model_data.zip')\n",
    "duration_df.drop(columns=['Unnamed: 0'], inplace=True)\n",
    "duration_df.head()"
   ]
  },
  {
   "cell_type": "code",
   "execution_count": 9,
   "id": "df37b2f1",
   "metadata": {},
   "outputs": [],
   "source": [
    "features_d = list(duration_df.columns)\n",
    "target_d = 'duration'\n",
    "features_d.remove(target_d)"
   ]
  },
  {
   "cell_type": "code",
   "execution_count": 10,
   "id": "b1cd2e16",
   "metadata": {},
   "outputs": [
    {
     "data": {
      "text/plain": [
       "((53481, 8), (13371, 8), (53481,), (13371,))"
      ]
     },
     "execution_count": 10,
     "metadata": {},
     "output_type": "execute_result"
    }
   ],
   "source": [
    "X_d = duration_df[features_d]\n",
    "y_d = duration_df[target_d]\n",
    "\n",
    "X_d_train, X_d_test, y_d_train, y_d_test = train_test_split(X_d, y_d, test_size=0.2, random_state=42)\n",
    "X_d_train.shape, X_d_test.shape, y_d_train.shape, y_d_test.shape"
   ]
  },
  {
   "cell_type": "code",
   "execution_count": 11,
   "id": "a64384a6",
   "metadata": {},
   "outputs": [],
   "source": [
    "baseline_d = LinearRegression()\n",
    "baseline_d.fit(X_d_train, y_d_train)\n",
    "baseline_d_pred = baseline_d.predict(X_d_test)\n",
    "\n",
    "baseline_d_r2_scores = cross_val_score(baseline_d, X_d_train, y_d_train, scoring='r2')\n",
    "baseline_d_rmse_scores = -cross_val_score(baseline_d, X_d_train, y_d_train, scoring='neg_root_mean_squared_error')\n",
    "\n",
    "baseline_d_r2 = baseline_d_r2_scores.mean()\n",
    "baseline_d_rmse = baseline_d_rmse_scores.mean()"
   ]
  },
  {
   "cell_type": "code",
   "execution_count": 12,
   "id": "172730f0",
   "metadata": {},
   "outputs": [],
   "source": [
    "duration_regr = xg.XGBRegressor(objective='reg:squarederror', n_estimators = 100)\n",
    "duration_regr.fit(X_d_train, y_d_train)\n",
    "\n",
    "duration_r2_scores = cross_val_score(duration_regr, X_d_train, y_d_train, scoring='r2')\n",
    "duration_rmse_scores = -cross_val_score(duration_regr, X_d_train, y_d_train, scoring='neg_root_mean_squared_error')\n",
    "\n",
    "duration_r2 = duration_r2_scores.mean()\n",
    "duration_rmse = duration_rmse_scores.mean()"
   ]
  },
  {
   "cell_type": "code",
   "execution_count": 13,
   "id": "ece90e78",
   "metadata": {
    "scrolled": false
   },
   "outputs": [
    {
     "name": "stdout",
     "output_type": "stream",
     "text": [
      "duration baseline model scores:\n",
      "\n",
      "r2: 0.687\trmse:0.558\n",
      "\n",
      "\n",
      "duration model scores:\n",
      "\n",
      "r2: 0.833\trmse:0.408\n"
     ]
    }
   ],
   "source": [
    "print(f'duration baseline model scores:\\n\\nr2: {baseline_d_r2:.3f}\\trmse:{baseline_d_rmse:.3f}\\n\\n')\n",
    "print(f'duration model scores:\\n\\nr2: {duration_r2:.3f}\\trmse:{duration_rmse:.3f}')"
   ]
  },
  {
   "cell_type": "markdown",
   "id": "ebe7a5f7",
   "metadata": {},
   "source": [
    "**creating models:**"
   ]
  },
  {
   "cell_type": "code",
   "execution_count": 14,
   "id": "14cf2f89",
   "metadata": {},
   "outputs": [],
   "source": [
    "price_regr.fit(X_p, y_p)\n",
    "\n",
    "filename = 'price_model.pkl'\n",
    "pickle.dump(price_regr, open(filename, 'wb'))"
   ]
  },
  {
   "cell_type": "code",
   "execution_count": 15,
   "id": "3fc170aa",
   "metadata": {},
   "outputs": [],
   "source": [
    "duration_regr.fit(X_d, y_d)\n",
    "\n",
    "filename = 'duration_model.pkl'\n",
    "pickle.dump(duration_regr, open(filename, 'wb'))"
   ]
  },
  {
   "cell_type": "code",
   "execution_count": null,
   "id": "77a80897",
   "metadata": {},
   "outputs": [],
   "source": []
  }
 ],
 "metadata": {
  "kernelspec": {
   "display_name": "Python 3",
   "language": "python",
   "name": "python3"
  },
  "language_info": {
   "codemirror_mode": {
    "name": "ipython",
    "version": 3
   },
   "file_extension": ".py",
   "mimetype": "text/x-python",
   "name": "python",
   "nbconvert_exporter": "python",
   "pygments_lexer": "ipython3",
   "version": "3.8.8"
  }
 },
 "nbformat": 4,
 "nbformat_minor": 5
}
